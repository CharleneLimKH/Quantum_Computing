{
 "cells": [
  {
   "cell_type": "code",
   "execution_count": 1,
   "metadata": {},
   "outputs": [],
   "source": [
    "%matplotlib inline\n",
    "import matplotlib.pyplot as plt\n",
    "import pandas as pd\n",
    "import numpy as np\n",
    "from sklearn.model_selection import train_test_split"
   ]
  },
  {
   "cell_type": "code",
   "execution_count": 2,
   "metadata": {},
   "outputs": [
    {
     "name": "stdout",
     "output_type": "stream",
     "text": [
      "WARNING:tensorflow:From d:\\FHNW_Medical_Informatics\\Python\\Python_Learn\\Q_C_Project\\.venv\\keras\\src\\losses.py:2976: The name tf.losses.sparse_softmax_cross_entropy is deprecated. Please use tf.compat.v1.losses.sparse_softmax_cross_entropy instead.\n",
      "\n"
     ]
    }
   ],
   "source": [
    "from keras import Sequential\n",
    "from keras.layers import Dense, Dropout\n",
    "from sklearn import preprocessing \n",
    "from scipy.io import arff\n",
    "#from sklearn.metrics import mean_squared_error\n",
    "#from sklearn.metrics import mean_absolute_error\n"
   ]
  },
  {
   "cell_type": "code",
   "execution_count": 4,
   "metadata": {},
   "outputs": [
    {
     "data": {
      "text/html": [
       "<div>\n",
       "<style scoped>\n",
       "    .dataframe tbody tr th:only-of-type {\n",
       "        vertical-align: middle;\n",
       "    }\n",
       "\n",
       "    .dataframe tbody tr th {\n",
       "        vertical-align: top;\n",
       "    }\n",
       "\n",
       "    .dataframe thead th {\n",
       "        text-align: right;\n",
       "    }\n",
       "</style>\n",
       "<table border=\"1\" class=\"dataframe\">\n",
       "  <thead>\n",
       "    <tr style=\"text-align: right;\">\n",
       "      <th></th>\n",
       "      <th>age</th>\n",
       "      <th>gender</th>\n",
       "      <th>impluse</th>\n",
       "      <th>pressurehight</th>\n",
       "      <th>pressurelow</th>\n",
       "      <th>glucose</th>\n",
       "      <th>kcm</th>\n",
       "      <th>troponin</th>\n",
       "      <th>class</th>\n",
       "    </tr>\n",
       "  </thead>\n",
       "  <tbody>\n",
       "    <tr>\n",
       "      <th>0</th>\n",
       "      <td>64.0</td>\n",
       "      <td>1.0</td>\n",
       "      <td>66.0</td>\n",
       "      <td>160.0</td>\n",
       "      <td>83.0</td>\n",
       "      <td>160.0</td>\n",
       "      <td>1.80</td>\n",
       "      <td>0.012</td>\n",
       "      <td>b'negative'</td>\n",
       "    </tr>\n",
       "    <tr>\n",
       "      <th>1</th>\n",
       "      <td>21.0</td>\n",
       "      <td>1.0</td>\n",
       "      <td>94.0</td>\n",
       "      <td>98.0</td>\n",
       "      <td>46.0</td>\n",
       "      <td>296.0</td>\n",
       "      <td>6.75</td>\n",
       "      <td>1.060</td>\n",
       "      <td>b'positive'</td>\n",
       "    </tr>\n",
       "    <tr>\n",
       "      <th>2</th>\n",
       "      <td>55.0</td>\n",
       "      <td>1.0</td>\n",
       "      <td>64.0</td>\n",
       "      <td>160.0</td>\n",
       "      <td>77.0</td>\n",
       "      <td>270.0</td>\n",
       "      <td>1.99</td>\n",
       "      <td>0.003</td>\n",
       "      <td>b'negative'</td>\n",
       "    </tr>\n",
       "    <tr>\n",
       "      <th>3</th>\n",
       "      <td>64.0</td>\n",
       "      <td>1.0</td>\n",
       "      <td>70.0</td>\n",
       "      <td>120.0</td>\n",
       "      <td>55.0</td>\n",
       "      <td>270.0</td>\n",
       "      <td>13.87</td>\n",
       "      <td>0.122</td>\n",
       "      <td>b'positive'</td>\n",
       "    </tr>\n",
       "    <tr>\n",
       "      <th>4</th>\n",
       "      <td>55.0</td>\n",
       "      <td>1.0</td>\n",
       "      <td>64.0</td>\n",
       "      <td>112.0</td>\n",
       "      <td>65.0</td>\n",
       "      <td>300.0</td>\n",
       "      <td>1.08</td>\n",
       "      <td>0.003</td>\n",
       "      <td>b'negative'</td>\n",
       "    </tr>\n",
       "  </tbody>\n",
       "</table>\n",
       "</div>"
      ],
      "text/plain": [
       "    age  gender  impluse  pressurehight  pressurelow  glucose    kcm  \\\n",
       "0  64.0     1.0     66.0          160.0         83.0    160.0   1.80   \n",
       "1  21.0     1.0     94.0           98.0         46.0    296.0   6.75   \n",
       "2  55.0     1.0     64.0          160.0         77.0    270.0   1.99   \n",
       "3  64.0     1.0     70.0          120.0         55.0    270.0  13.87   \n",
       "4  55.0     1.0     64.0          112.0         65.0    300.0   1.08   \n",
       "\n",
       "   troponin        class  \n",
       "0     0.012  b'negative'  \n",
       "1     1.060  b'positive'  \n",
       "2     0.003  b'negative'  \n",
       "3     0.122  b'positive'  \n",
       "4     0.003  b'negative'  "
      ]
     },
     "execution_count": 4,
     "metadata": {},
     "output_type": "execute_result"
    }
   ],
   "source": [
    "data = arff.loadarff(\"./dataset/Medicaldataset.arff\")\n",
    "df = pd.DataFrame(data[0])\n",
    "df.head()"
   ]
  },
  {
   "cell_type": "code",
   "execution_count": 5,
   "metadata": {},
   "outputs": [
    {
     "data": {
      "text/plain": [
       "(       age  gender  impluse  pressurehight  pressurelow  glucose    kcm  \\\n",
       " 0     64.0     1.0     66.0          160.0         83.0    160.0   1.80   \n",
       " 1     21.0     1.0     94.0           98.0         46.0    296.0   6.75   \n",
       " 2     55.0     1.0     64.0          160.0         77.0    270.0   1.99   \n",
       " 3     64.0     1.0     70.0          120.0         55.0    270.0  13.87   \n",
       " 4     55.0     1.0     64.0          112.0         65.0    300.0   1.08   \n",
       " ...    ...     ...      ...            ...          ...      ...    ...   \n",
       " 1314  44.0     1.0     94.0          122.0         67.0    204.0   1.63   \n",
       " 1315  66.0     1.0     84.0          125.0         55.0    149.0   1.33   \n",
       " 1316  45.0     1.0     85.0          168.0        104.0     96.0   1.24   \n",
       " 1317  54.0     1.0     58.0          117.0         68.0    443.0   5.80   \n",
       " 1318  51.0     1.0     94.0          157.0         79.0    134.0  50.89   \n",
       " \n",
       "       troponin  \n",
       " 0        0.012  \n",
       " 1        1.060  \n",
       " 2        0.003  \n",
       " 3        0.122  \n",
       " 4        0.003  \n",
       " ...        ...  \n",
       " 1314     0.006  \n",
       " 1315     0.172  \n",
       " 1316     4.250  \n",
       " 1317     0.359  \n",
       " 1318     1.770  \n",
       " \n",
       " [1319 rows x 8 columns],\n",
       " array([0, 1, 0, ..., 1, 1, 1], dtype=int64))"
      ]
     },
     "execution_count": 5,
     "metadata": {},
     "output_type": "execute_result"
    }
   ],
   "source": [
    "X = df.iloc[:,df.columns !='class'] #select all features except for class\n",
    "X_1 = X\n",
    "y = df['class'].str.decode('utf-8') #transform byte to string \n",
    "#print(y)\n",
    "mapping = {'negative': 0, 'positive': 1} #mapping the string to int\n",
    "y = y.replace(mapping).to_numpy()  #transform string to int\n",
    "#print(X.shape) (1319, 8) \n",
    "X_1 , y"
   ]
  },
  {
   "cell_type": "code",
   "execution_count": 6,
   "metadata": {},
   "outputs": [
    {
     "data": {
      "text/plain": [
       "(array([0, 1], dtype=int64), array([509, 810], dtype=int64))"
      ]
     },
     "execution_count": 6,
     "metadata": {},
     "output_type": "execute_result"
    }
   ],
   "source": [
    "np.unique(y, return_counts=True)\n"
   ]
  },
  {
   "cell_type": "code",
   "execution_count": 7,
   "metadata": {},
   "outputs": [],
   "source": [
    "X_train, X_test, y_train, y_test = train_test_split(X_1, y, test_size=0.33, random_state=42) "
   ]
  },
  {
   "cell_type": "code",
   "execution_count": 8,
   "metadata": {},
   "outputs": [
    {
     "name": "stdout",
     "output_type": "stream",
     "text": [
      "n_estimators=50, Mean Cross-Validation Score: 0.9863607558474479\n",
      "n_estimators=100, Mean Cross-Validation Score: 0.9863607558474479\n",
      "n_estimators=200, Mean Cross-Validation Score: 0.9863607558474479\n",
      "n_estimators=500, Mean Cross-Validation Score: 0.9856002995736837\n"
     ]
    }
   ],
   "source": [
    "#perform feature extraction\n",
    "from sklearn.ensemble import RandomForestClassifier\n",
    "from sklearn.feature_selection import SelectFromModel\n",
    "from sklearn.model_selection import cross_val_score\n",
    "\n",
    "# Loop over different values of n_estimators\n",
    "for n_trees in [50, 100, 200, 500]:\n",
    "    # Create RandomForestClassifier with current n_estimators\n",
    "    forest = RandomForestClassifier(n_estimators=n_trees, random_state=42)\n",
    "    \n",
    "    # Use cross_val_score for evaluation\n",
    "    scores = cross_val_score(forest, X_1, y, cv=5)  # 5-fold cross-validation\n",
    "    mean_score = scores.mean()\n",
    "    \n",
    "    print(f\"n_estimators={n_trees}, Mean Cross-Validation Score: {mean_score}\")\n",
    "\n"
   ]
  },
  {
   "cell_type": "code",
   "execution_count": 9,
   "metadata": {},
   "outputs": [
    {
     "name": "stdout",
     "output_type": "stream",
     "text": [
      "age\n",
      "glucose\n",
      "kcm\n",
      "troponin\n"
     ]
    }
   ],
   "source": [
    "#create and train a random forest\n",
    "forest= RandomForestClassifier(n_estimators= 200, random_state= 42)\n",
    "forest.fit(X_train, y_train)\n",
    "\n",
    "#get the most important features\n",
    "forest_feats= SelectFromModel(forest, threshold= 'median')\n",
    "forest_feats.fit(X_train, y_train)\n",
    "\n",
    "#get training and development sets that have only the most important features\n",
    "x_train_forest = forest_feats.transform(X_train)\n",
    "x_devel_forest = forest_feats.transform(X_test)\n",
    "\n",
    "#see which features were retained\n",
    "for i in forest_feats.get_support(indices= True):\n",
    "    print(X_train.columns[i])"
   ]
  },
  {
   "cell_type": "code",
   "execution_count": 10,
   "metadata": {},
   "outputs": [
    {
     "name": "stdout",
     "output_type": "stream",
     "text": [
      "       age  glucose    kcm  troponin\n",
      "0     64.0    160.0   1.80     0.012\n",
      "1     21.0    296.0   6.75     1.060\n",
      "2     55.0    270.0   1.99     0.003\n",
      "3     64.0    270.0  13.87     0.122\n",
      "4     55.0    300.0   1.08     0.003\n",
      "...    ...      ...    ...       ...\n",
      "1314  44.0    204.0   1.63     0.006\n",
      "1315  66.0    149.0   1.33     0.172\n",
      "1316  45.0     96.0   1.24     4.250\n",
      "1317  54.0    443.0   5.80     0.359\n",
      "1318  51.0    134.0  50.89     1.770\n",
      "\n",
      "[1319 rows x 4 columns]\n"
     ]
    }
   ],
   "source": [
    "X_2 = X_1[[\"age\", \"glucose\", \"kcm\", \"troponin\"]]\n",
    "print(X_2)"
   ]
  },
  {
   "cell_type": "code",
   "execution_count": 11,
   "metadata": {},
   "outputs": [
    {
     "data": {
      "text/plain": [
       "(1319, Index(['age', 'glucose', 'kcm', 'troponin'], dtype='object'), 4)"
      ]
     },
     "execution_count": 11,
     "metadata": {},
     "output_type": "execute_result"
    }
   ],
   "source": [
    "len(X_2), X_2.columns, len(X_2.columns)"
   ]
  },
  {
   "cell_type": "code",
   "execution_count": 12,
   "metadata": {},
   "outputs": [
    {
     "data": {
      "text/plain": [
       "array([[0.7007007 , 0.71471471, 0.29029029, 0.45645646],\n",
       "       [0.00600601, 0.94171965, 0.78128128, 0.90375316],\n",
       "       [0.43843844, 0.92092092, 0.33533534, 0.07507508],\n",
       "       ...,\n",
       "       [0.20620621, 0.21871872, 0.12712713, 0.98371691],\n",
       "       [0.40640641, 0.99499499, 0.74938614, 0.83069302],\n",
       "       [0.34884885, 0.61011011, 0.93793794, 0.94521619]])"
      ]
     },
     "execution_count": 12,
     "metadata": {},
     "output_type": "execute_result"
    }
   ],
   "source": [
    "from sklearn.preprocessing import MinMaxScaler, StandardScaler, RobustScaler\n",
    "\n",
    "features = preprocessing.quantile_transform(X_2)\n",
    "\n",
    "features"
   ]
  },
  {
   "cell_type": "markdown",
   "metadata": {},
   "source": [
    "# Neural Network Classifier & Regressor"
   ]
  },
  {
   "cell_type": "code",
   "execution_count": 13,
   "metadata": {},
   "outputs": [],
   "source": [
    "import matplotlib.pyplot as plt\n",
    "import numpy as np\n",
    "from IPython.display import clear_output\n",
    "from qiskit import QuantumCircuit\n",
    "from qiskit.circuit import Parameter\n",
    "from qiskit.circuit.library import RealAmplitudes, ZZFeatureMap\n",
    "from qiskit_algorithms.optimizers import COBYLA, L_BFGS_B\n",
    "from qiskit_algorithms.utils import algorithm_globals\n",
    "\n",
    "from qiskit_machine_learning.algorithms.classifiers import NeuralNetworkClassifier, VQC\n",
    "from qiskit_machine_learning.algorithms.regressors import NeuralNetworkRegressor, VQR\n",
    "from qiskit_machine_learning.neural_networks import SamplerQNN, EstimatorQNN\n",
    "from qiskit_machine_learning.circuit.library import QNNCircuit\n",
    "\n",
    "algorithm_globals.random_seed = 123"
   ]
  },
  {
   "cell_type": "code",
   "execution_count": 14,
   "metadata": {},
   "outputs": [
    {
     "data": {
      "text/plain": [
       "(array([[0.73223223, 0.81931932, 0.38788789, 0.07507508],\n",
       "        [0.63413413, 0.01101101, 0.85544379, 0.81948981],\n",
       "        [0.89439439, 0.72322322, 0.55705706, 0.53253253],\n",
       "        ...,\n",
       "        [0.31631632, 0.8973974 , 0.56756757, 0.95734034],\n",
       "        [0.07507508, 0.18168168, 0.31881882, 0.07507508],\n",
       "        [0.66916917, 0.8048048 , 0.73981963, 0.22022022]]),\n",
       " array([-1,  1,  1, ...,  1, -1, -1], dtype=int64))"
      ]
     },
     "execution_count": 14,
     "metadata": {},
     "output_type": "execute_result"
    }
   ],
   "source": [
    "from sklearn.model_selection import train_test_split\n",
    "from qiskit_algorithms.utils import algorithm_globals\n",
    "\n",
    "y = 2 * y - 1  # in {-1, +1}\n",
    "\n",
    "X_train, X_test, y_train, y_test = train_test_split(\n",
    "    features, y, train_size=0.8, random_state=algorithm_globals.random_seed\n",
    ")\n",
    "X_train, y_train"
   ]
  },
  {
   "cell_type": "code",
   "execution_count": 15,
   "metadata": {},
   "outputs": [
    {
     "name": "stderr",
     "output_type": "stream",
     "text": [
      "d:\\FHNW_Medical_Informatics\\Python\\Python_Learn\\Q_C_Project\\.venv\\qiskit\\visualization\\circuit\\matplotlib.py:266: FutureWarning: The default matplotlib drawer scheme will be changed to \"iqp\" in a following release. To silence this warning, specify the current default explicitly as style=\"clifford\", or the new default as style=\"iqp\".\n",
      "  self._style, def_font_ratio = load_style(self._style)\n"
     ]
    },
    {
     "data": {
      "image/png": "[encoded data removed]",
      "text/plain": [
       "<Figure size 1123.61x367.889 with 1 Axes>"
      ]
     },
     "execution_count": 15,
     "metadata": {},
     "output_type": "execute_result"
    }
   ],
   "source": [
    "# construct QNN with the QNNCircuit's default ZZFeatureMap feature map and RealAmplitudes ansatz.\n",
    "qc = QNNCircuit(num_qubits=4)\n",
    "qc.draw(output=\"mpl\")"
   ]
  },
  {
   "cell_type": "code",
   "execution_count": 16,
   "metadata": {},
   "outputs": [],
   "source": [
    "#create a quantum neural network classifier\n",
    "estimator_qnn = EstimatorQNN(circuit=qc)"
   ]
  },
  {
   "cell_type": "code",
   "execution_count": 17,
   "metadata": {},
   "outputs": [
    {
     "data": {
      "text/plain": [
       "(array([[0.73223223, 0.81931932, 0.38788789, 0.07507508],\n",
       "        [0.63413413, 0.01101101, 0.85544379, 0.81948981],\n",
       "        [0.89439439, 0.72322322, 0.55705706, 0.53253253],\n",
       "        ...,\n",
       "        [0.31631632, 0.8973974 , 0.56756757, 0.95734034],\n",
       "        [0.07507508, 0.18168168, 0.31881882, 0.07507508],\n",
       "        [0.66916917, 0.8048048 , 0.73981963, 0.22022022]]),\n",
       " array([-1,  1,  1, ...,  1, -1, -1], dtype=int64))"
      ]
     },
     "execution_count": 17,
     "metadata": {},
     "output_type": "execute_result"
    }
   ],
   "source": [
    "\n",
    "X_train, y_train"
   ]
  },
  {
   "cell_type": "code",
   "execution_count": 18,
   "metadata": {},
   "outputs": [
    {
     "data": {
      "text/plain": [
       "array([[-0.00458707]])"
      ]
     },
     "execution_count": 18,
     "metadata": {},
     "output_type": "execute_result"
    }
   ],
   "source": [
    "# QNN maps inputs to [-1, +1]\n",
    "estimator_qnn.forward(features[0, :], algorithm_globals.random.random(estimator_qnn.num_weights))"
   ]
  },
  {
   "cell_type": "markdown",
   "metadata": {},
   "source": [
    "We will add a callback function called callback_graph. This will be called for each iteration of the optimizer and will be passed two parameters: the current weights and the value of the objective function at those weights. For our function, we append the value of the objective function to an array so we can plot iteration versus objective function value and update the graph with each iteration. However, you can do whatever you want with a callback function as long as it gets the two parameters mentioned passed."
   ]
  },
  {
   "cell_type": "code",
   "execution_count": 19,
   "metadata": {},
   "outputs": [],
   "source": [
    "# callback function that draws a live plot when the .fit() method is called\n",
    "def callback_graph(weights, obj_func_eval):\n",
    "    clear_output(wait=True)\n",
    "    objective_func_vals.append(obj_func_eval)\n",
    "    plt.title(\"Objective function value against iteration\")\n",
    "    plt.xlabel(\"Iteration\")\n",
    "    plt.ylabel(\"Objective function value\")\n",
    "    plt.plot(range(len(objective_func_vals)), objective_func_vals)\n",
    "    plt.show()"
   ]
  },
  {
   "cell_type": "code",
   "execution_count": 20,
   "metadata": {},
   "outputs": [],
   "source": [
    "# construct neural network classifier\n",
    "estimator_classifier = NeuralNetworkClassifier(\n",
    "    estimator_qnn, optimizer=COBYLA(maxiter=60), callback=callback_graph\n",
    ")"
   ]
  },
  {
   "cell_type": "code",
   "execution_count": 21,
   "metadata": {},
   "outputs": [
    {
     "data": {
      "image/png": "[encoded data removed]",
      "text/plain": [
       "<Figure size 1200x600 with 1 Axes>"
      ]
     },
     "metadata": {},
     "output_type": "display_data"
    },
    {
     "data": {
      "text/plain": [
       "0.6477272727272727"
      ]
     },
     "execution_count": 21,
     "metadata": {},
     "output_type": "execute_result"
    }
   ],
   "source": [
    "# create empty array for callback to store evaluations of the objective function\n",
    "objective_func_vals = []\n",
    "plt.rcParams[\"figure.figsize\"] = (12, 6)\n",
    "\n",
    "# fit classifier to data\n",
    "estimator_classifier.fit(X_train, y_train)\n",
    "\n",
    "# return to default figsize\n",
    "plt.rcParams[\"figure.figsize\"] = (6, 4)\n",
    "\n",
    "# score classifier\n",
    "estimator_classifier.score(X_test, y_test)"
   ]
  },
  {
   "cell_type": "code",
   "execution_count": 23,
   "metadata": {},
   "outputs": [
    {
     "name": "stdout",
     "output_type": "stream",
     "text": [
      "QNN on the training dataset: 0.68\n",
      "QNN on the test dataset:     0.65\n"
     ]
    }
   ],
   "source": [
    "train_score_qnn_ra = estimator_classifier.score(X_train, y_train)\n",
    "test_score_qnn_ra = estimator_classifier.score(X_test, y_test)\n",
    "\n",
    "print(f\"QNN on the training dataset: {train_score_qnn_ra:.2f}\")\n",
    "print(f\"QNN on the test dataset:     {test_score_qnn_ra:.2f}\")"
   ]
  },
  {
   "cell_type": "code",
   "execution_count": 24,
   "metadata": {},
   "outputs": [
    {
     "data": {
      "text/plain": [
       "'              precision    recall  f1-score   support\\n\\n          -1       0.54      0.67      0.60       103\\n           1       0.75      0.63      0.69       161\\n\\n    accuracy                           0.65       264\\n   macro avg       0.64      0.65      0.64       264\\nweighted avg       0.67      0.65      0.65       264\\n'"
      ]
     },
     "execution_count": 24,
     "metadata": {},
     "output_type": "execute_result"
    }
   ],
   "source": [
    "from sklearn.metrics import classification_report\n",
    "classification_report(y_test, estimator_classifier.predict(X_test))"
   ]
  }
 ],
 "metadata": {
  "kernelspec": {
   "display_name": ".venv",
   "language": "python",
   "name": "python3"
  },
  "language_info": {
   "codemirror_mode": {
    "name": "ipython",
    "version": 3
   },
   "file_extension": ".py",
   "mimetype": "text/x-python",
   "name": "python",
   "nbconvert_exporter": "python",
   "pygments_lexer": "ipython3",
   "version": "3.10.11"
  }
 },
 "nbformat": 4,
 "nbformat_minor": 2
}
